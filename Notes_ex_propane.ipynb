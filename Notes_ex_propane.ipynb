{
 "cells": [
  {
   "cell_type": "markdown",
   "metadata": {},
   "source": [
    "**Example:** \n",
    "\n",
    "One kmol of propane $\\left(C_3H_{8}\\right)$ is burned in air under rich conditions in an engine. Assuming rich, incomplete combustion (i.e., 30% of the propane goes to CO in the exhaust), determine (i)the equivalence ratio, and (ii)the combustion temperature.\n",
    "\n",
    "$C_3H_8 + \\phi \\left(O_2 + 3.76 N_2\\right) \\rightarrow n_1CO_2 + n_2H_2O + n_3N_2 + n_4O_2 + n_5CO + n_6H_2$\n",
    "\n",
    "where, $n_1 = 0.7*3$ and $n_5 = (1-0.7)*3$\n",
    "\n",
    "(note in this example we're using propane becuase the default chemical mechanisms don't have C8 molecules in them)."
   ]
  },
  {
   "cell_type": "code",
   "execution_count": 1,
   "metadata": {},
   "outputs": [
    {
     "name": "stdout",
     "output_type": "stream",
     "text": [
      "Phi is calculated to be 1.43\n",
      "The temperature is  876.40 K\n",
      "x_CO2 = 0.10\n",
      "x_CO = 0.04\n"
     ]
    }
   ],
   "source": [
    "# First we import fsolve from scipy\n",
    "from scipy.optimize import fsolve\n",
    "from math import exp\n",
    "import numpy\n",
    "\n",
    "# Set up the knowns\n",
    "fuel = 1 #kmol of C3H6\n",
    "C_fuel = 3\n",
    "H_fuel = 8\n",
    "\n",
    "# Note that we were told 70% of the octane converted to CO2 while 30% was converted to CO:\n",
    "pB = 0.7 #70% burned to CO2\n",
    "\n",
    "a = pB*(C_fuel+H_fuel/4)\n",
    "a_s = (C_fuel+H_fuel/4)\n",
    "phi = a_s/a\n",
    "print(\"Phi is calculated to be %1.2f\" % phi)\n",
    "\n",
    "n1 = pB*(C_fuel)\n",
    "n5 = (1-pB)*C_fuel\n",
    "\n",
    "# Define our equations to solve\n",
    "def eqn(vars):\n",
    "    t, T, K, d1, a1, b1, c1, n2, n6, n3 = vars\n",
    "    eq1 = t - T/1000\n",
    "    eq2 = K - exp(2.743 - 1.761/t - 1.611/t**2 + 0.2803/t**3)\n",
    "    eq3 = d1 - 2*a_s*(1-1/phi)\n",
    "    eq4 = a1 - (1-K)\n",
    "    eq5 = b1 - (H_fuel/2 + K*C_fuel - d1*(1-K))\n",
    "    eq6 = c1 - (-C_fuel*d1*K)\n",
    "    eq7 = K - n2*n5/(n1*n6)\n",
    "    eq8 = n2 - (H_fuel/2 - d1 + n5)\n",
    "    eq9 = n3 - 3.76*a_s/phi\n",
    "    eq10 = n6 - (d1 - n5)\n",
    "    return [eq1, eq2, eq3, eq4, eq5, eq6, eq7, eq8, eq9, eq10]\n",
    "\n",
    "# Now call the fsolve function to solve our system of equatins\n",
    "t, T, K, d1, a1, b1, c1, n2, n6, n3 = fsolve(eqn, (1, 1000, 1, 1, 1, 1, 1, 1, 1, 1))\n",
    "\n",
    "print(\"The temperature is  %1.2f K\" % T)\n",
    "#print(\"n_CO2 = %1.2f\" % n1)\n",
    "#print(\"n_CO = %1.2f\" % n5)\n",
    "\n",
    "# Calculating mole fractions\n",
    "ntot = n1+n2+n3+n5+n6 #total moles\n",
    "x_CO2 = n1/ntot\n",
    "x_CO = n5/ntot\n",
    "\n",
    "print(\"x_CO2 = %1.2f\" % x_CO2)\n",
    "print(\"x_CO = %1.2f\" % x_CO)"
   ]
  },
  {
   "cell_type": "markdown",
   "metadata": {},
   "source": [
    "%==================\n",
    "\n",
    "Now let's check our answers with cantera:"
   ]
  },
  {
   "cell_type": "code",
   "execution_count": 4,
   "metadata": {},
   "outputs": [
    {
     "name": "stdout",
     "output_type": "stream",
     "text": [
      "The equivalence ratio prior to equilb calc is: 1.43\n",
      "The mole fraction of CO2 is 0.1049 \n",
      "The mole fraction of CO is 0.0433 \n",
      "\n",
      "  gri30:\n",
      "\n",
      "       temperature   876.4 K\n",
      "          pressure   1.0132e+05 Pa\n",
      "           density   0.36256 kg/m^3\n",
      "  mean mol. weight   26.074 kg/kmol\n",
      "   phase of matter   gas\n",
      "\n",
      "                          1 kg             1 kmol     \n",
      "                     ---------------   ---------------\n",
      "          enthalpy       -1.9285e+06       -5.0282e+07  J\n",
      "   internal energy       -2.2079e+06       -5.7569e+07  J\n",
      "           entropy              8876        2.3143e+05  J/K\n",
      "    Gibbs function       -9.7075e+06       -2.5311e+08  J\n",
      " heat capacity c_p            1330.9             34701  J/K\n",
      " heat capacity c_v              1012             26386  J/K\n",
      "\n",
      "                      mass frac. Y      mole frac. X     chem. pot. / RT\n",
      "                     ---------------   ---------------   ---------------\n",
      "                H2         0.0079137           0.10235           -19.467\n",
      "                 H        6.5136e-13        1.6849e-11           -9.7335\n",
      "                OH        7.5619e-15        1.1593e-14           -50.278\n",
      "               H2O          0.065415          0.094678           -60.012\n",
      "               CH3        1.2354e-12        2.1424e-12           -32.232\n",
      "               CH4        0.00051148        0.00083128           -41.965\n",
      "                CO          0.046545          0.043327           -43.576\n",
      "               CO2           0.17706            0.1049           -84.121\n",
      "               HCO        8.5969e-14        7.7246e-14            -53.31\n",
      "              CH2O        3.1136e-09        2.7038e-09           -63.043\n",
      "             CH3OH        9.5092e-11         7.738e-11            -82.51\n",
      "              C2H2        8.7628e-14        8.7749e-14            -25.53\n",
      "              C2H4        1.1834e-10        1.0998e-10           -44.997\n",
      "              C2H6        4.0007e-10         3.469e-10           -64.464\n",
      "             CH2CO        2.2254e-12        1.3803e-12           -66.074\n",
      "               NH3        2.5548e-05        3.9113e-05           -41.674\n",
      "               HCN        4.7938e-08        4.6249e-08           -25.238\n",
      "              HNCO        2.6442e-08        1.6024e-08           -65.783\n",
      "                N2           0.70253           0.65387           -24.947\n",
      "            CH3CHO         2.135e-12        1.2636e-12           -85.541\n",
      "     [  +33 minor]        1.7551e-14        1.3419e-14  \n",
      "\n"
     ]
    }
   ],
   "source": [
    "# First you need to import the requried toolboxes\n",
    "import cantera as ct\n",
    "\n",
    "# Let's create the gas object\n",
    "gas1 = ct.Solution('gri30.yaml')\n",
    "gas1.set_equivalence_ratio(phi=phi, fuel='C3H8', oxidizer={'O2':1.0, 'N2':3.76}) #note we pulled \"phi\" from above\n",
    "gas1.TP = T, 101325     #let's pull the temp from up above\n",
    "#check that we've set the equivalence ratio correctly\n",
    "g1eqr = gas1.equivalence_ratio()\n",
    "print(\"The equivalence ratio prior to equilb calc is: %1.2f\" % g1eqr)\n",
    "\n",
    "# Solve the const enthaply equation\n",
    "gas1.equilibrate('TP')\n",
    "\n",
    "# Let's search for specific products\n",
    "mf_co2 = gas1['CO2'].X\n",
    "print(\"The mole fraction of CO2 is %1.4f \" % mf_co2)\n",
    "mf_co = gas1['CO'].X\n",
    "print(\"The mole fraction of CO is %1.4f \" % mf_co)\n",
    "\n",
    "gas1()"
   ]
  },
  {
   "cell_type": "code",
   "execution_count": null,
   "metadata": {},
   "outputs": [],
   "source": []
  }
 ],
 "metadata": {
  "kernelspec": {
   "display_name": "Python 3 (ipykernel)",
   "language": "python",
   "name": "python3"
  },
  "language_info": {
   "codemirror_mode": {
    "name": "ipython",
    "version": 3
   },
   "file_extension": ".py",
   "mimetype": "text/x-python",
   "name": "python",
   "nbconvert_exporter": "python",
   "pygments_lexer": "ipython3",
   "version": "3.10.9"
  },
  "varInspector": {
   "cols": {
    "lenName": 16,
    "lenType": 16,
    "lenVar": 40
   },
   "kernels_config": {
    "python": {
     "delete_cmd_postfix": "",
     "delete_cmd_prefix": "del ",
     "library": "var_list.py",
     "varRefreshCmd": "print(var_dic_list())"
    },
    "r": {
     "delete_cmd_postfix": ") ",
     "delete_cmd_prefix": "rm(",
     "library": "var_list.r",
     "varRefreshCmd": "cat(var_dic_list()) "
    }
   },
   "position": {
    "height": "502.667px",
    "left": "1070px",
    "right": "20px",
    "top": "120px",
    "width": "350px"
   },
   "types_to_exclude": [
    "module",
    "function",
    "builtin_function_or_method",
    "instance",
    "_Feature"
   ],
   "window_display": false
  }
 },
 "nbformat": 4,
 "nbformat_minor": 4
}
