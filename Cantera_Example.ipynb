{
 "cells": [
  {
   "cell_type": "markdown",
   "metadata": {},
   "source": [
    "# Example Cantera Notebook\n",
    "\n",
    "This is an example cantera notebook showing some examples...\n",
    "\n",
    "Let's get fancy $\\phi = \\frac{AF_s}{AF}$\n",
    "\n",
    "First let's start by recognizing that we're not using cantera just yet. Right now we're just in the jupyter notebook environment, which (at the moment) is just a pretty wrapper for python. To begin with cantera, we need to import it. We'll also import numpy which is a numerical library in python that allows us to numbers/matrices with many familiar (read matlab-like) functionality."
   ]
  },
  {
   "cell_type": "code",
   "execution_count": 1,
   "metadata": {},
   "outputs": [
    {
     "name": "stdout",
     "output_type": "stream",
     "text": [
      "\n",
      "  gri30:\n",
      "\n",
      "       temperature            1800  K\n",
      "          pressure          101325  Pa\n",
      "           density       0.0712273  kg/m^3\n",
      "  mean mol. weight         10.5205  amu\n",
      "\n",
      "                          1 kg            1 kmol\n",
      "                       -----------      ------------\n",
      "          enthalpy     -6.9829e+06       -7.346e+07     J\n",
      "   internal energy     -8.4054e+06       -8.843e+07     J\n",
      "           entropy           21892        2.303e+05     J/K\n",
      "    Gibbs function     -4.6389e+07        -4.88e+08     J\n",
      " heat capacity c_p          4025.3        4.235e+04     J/K\n",
      " heat capacity c_v            3235        3.403e+04     J/K\n",
      "\n",
      "                           X                 Y          Chem. Pot. / RT\n",
      "                     -------------     ------------     ------------\n",
      "                H2       0.468179        0.0897099         -19.9077\n",
      "                 H    0.000245136      2.34858e-05         -9.95383\n",
      "                 O    7.43821e-09      1.13119e-08         -23.8998\n",
      "                O2     3.7409e-09      1.13782e-08         -47.7996\n",
      "                OH    1.83597e-05      2.96801e-05         -33.8537\n",
      "               H2O       0.531557         0.910237         -43.8075\n",
      "               HO2    4.12883e-12      1.29537e-11         -57.7535\n",
      "              H2O2    2.91676e-11       9.4304e-11         -67.7073\n",
      "     [  +45 minor]              0                0\n",
      "\n"
     ]
    }
   ],
   "source": [
    "import cantera\n",
    "import numpy\n",
    "# Now we'll create a gas object\n",
    "gas1 = cantera.Solution('gri30.xml')\n",
    "\n",
    "#gas1 = cantera.Solution('burkeh2o2.cti')\n",
    "\n",
    "\n",
    "#Let's set what our gas is made of\n",
    "gas1.X = {'H2':0.79, 'O2':0.21}\n",
    "\n",
    "#Now set the temperature and pressure...\n",
    "gas1.TP = 1800, 101325\n",
    "\n",
    "#Finally, calculate the equilbrium gas concentrations based on the temp and pressure. Play around with different\n",
    "# temps and pressures and see how it changes the concentrations below.\n",
    "gas1.equilibrate('TP')\n",
    "gas1()"
   ]
  },
  {
   "cell_type": "markdown",
   "metadata": {},
   "source": [
    "% =================\n",
    "# Check out here for list of gas properties: \n",
    "* https://cantera.org/documentation/docs-2.4/sphinx/html/cython/thermo.html"
   ]
  },
  {
   "cell_type": "code",
   "execution_count": 2,
   "metadata": {
    "scrolled": false
   },
   "outputs": [],
   "source": [
    "#Now let's look at a gas mixture that invovles air and hydrocarbons, note here we're setting a stoichiometric ratio\n",
    "#gas1.X = {'N2':2*3.76, 'O2':2*3.5, 'CH4':1}\n",
    "\n",
    "#alternatively, we could have used...\n",
    "gas1.set_equivalence_ratio(phi=1.0, fuel='CH4', oxidizer={'O2':1.0, 'N2':3.76})\n",
    "gas1.TP = 298, 101325\n",
    "# Let's also track the enthalpy...\n",
    "h1_mass = gas1.enthalpy_mass/1000\n",
    "\n",
    "\n",
    "#Now, let's find the adiabatic flame temp by solving an \"HP\" type problem... \n",
    "gas1.equilibrate('HP')\n",
    "#gas1()"
   ]
  },
  {
   "cell_type": "code",
   "execution_count": 3,
   "metadata": {},
   "outputs": [
    {
     "name": "stdout",
     "output_type": "stream",
     "text": [
      "The mixture molecular weight is 27.43 kg/kmol\n",
      "The enthalpy change is -0.00 kJ/kg \n",
      "The mole fraction of NO is 0.0019 \n"
     ]
    }
   ],
   "source": [
    "# We can also lookup specific items like the molecular weight\n",
    "mw = gas1.mean_molecular_weight\n",
    "print(\"The mixture molecular weight is %1.2f kg/kmol\" % mw)\n",
    "\n",
    "# or the enthalpy on a mass basis\n",
    "h2_mass = gas1.enthalpy_mass/1000\n",
    "dh = h2_mass - h1_mass # note that the enthalpy should not change!\n",
    "print(\"The enthalpy change is %1.2f kJ/kg \" % dh)\n",
    "\n",
    "# or we can search for a specific element\n",
    "mf_no = gas1['NO'].X\n",
    "print(\"The mole fraction of NO is %1.4f \" % mf_no)"
   ]
  },
  {
   "cell_type": "code",
   "execution_count": 4,
   "metadata": {},
   "outputs": [
    {
     "name": "stdout",
     "output_type": "stream",
     "text": [
      "\n",
      "  gri30:\n",
      "\n",
      "       temperature          3076.9  K\n",
      "          pressure          101325  Pa\n",
      "           density         0.05885  kg/m^3\n",
      "  mean mol. weight         14.8586  amu\n",
      "\n",
      "                          1 kg            1 kmol\n",
      "                       -----------      ------------\n",
      "          enthalpy         -362.39            -5385     J\n",
      "   internal energy     -1.7221e+06       -2.559e+07     J\n",
      "           entropy           18239         2.71e+05     J/K\n",
      "    Gibbs function     -5.6121e+07       -8.339e+08     J\n",
      " heat capacity c_p          3172.5        4.714e+04     J/K\n",
      " heat capacity c_v            2613        3.882e+04     J/K\n",
      "\n",
      "                           X                 Y          Chem. Pot. / RT\n",
      "                     -------------     ------------     ------------\n",
      "                H2       0.149305        0.0202563         -22.8382\n",
      "                 H      0.0768761       0.00521493         -11.4191\n",
      "                 O      0.0330186        0.0355537         -16.6817\n",
      "                O2       0.050914         0.109646         -33.3634\n",
      "                OH       0.105665         0.120945         -28.1008\n",
      "               H2O       0.584179         0.708287         -39.5198\n",
      "               HO2    4.06304e-05       9.0256e-05         -44.7825\n",
      "              H2O2    2.57348e-06      5.89128e-06         -56.2015\n",
      "     [  +45 minor]              0                0\n",
      "\n"
     ]
    }
   ],
   "source": [
    "#Alternatively, we could have looked at a hydrogen oxygen system\n",
    "gas1.X = {'O2':1, 'H2':2}\n",
    "#gas1.set_equivalence_ratio(phi=1.0, fuel='H2', oxidizer={'O2':1.0})\n",
    "gas1.TP = 298, 101325\n",
    "gas1.equilibrate('HP')\n",
    "gas1()"
   ]
  },
  {
   "cell_type": "markdown",
   "metadata": {},
   "source": [
    "To get the mass fraction of OH we'd type:"
   ]
  },
  {
   "cell_type": "code",
   "execution_count": 5,
   "metadata": {},
   "outputs": [
    {
     "name": "stdout",
     "output_type": "stream",
     "text": [
      "The mole fraction of OH is 0.1057 \n",
      "The mass fraction of OH is 0.1209 \n"
     ]
    }
   ],
   "source": [
    "x_oh = gas1['OH'].X\n",
    "print(\"The mole fraction of OH is %1.4f \" % x_oh)\n",
    "\n",
    "#or we can get the mass fraction:\n",
    "y_oh = gas1['OH'].Y\n",
    "print(\"The mass fraction of OH is %1.4f \" % y_oh)"
   ]
  },
  {
   "cell_type": "code",
   "execution_count": 6,
   "metadata": {
    "scrolled": false
   },
   "outputs": [
    {
     "name": "stdout",
     "output_type": "stream",
     "text": [
      "\n",
      "  gas:\n",
      "\n",
      "       temperature             300  K\n",
      "          pressure         3187.35  Pa\n",
      "           density       0.0409445  kg/m^3\n",
      "  mean mol. weight         32.0422  amu\n",
      "\n",
      "                          1 kg            1 kmol\n",
      "                       -----------      ------------\n",
      "          enthalpy     -6.2659e+06       -2.008e+08     J\n",
      "   internal energy     -6.3437e+06       -2.033e+08     J\n",
      "           entropy          8362.8         2.68e+05     J/K\n",
      "    Gibbs function     -8.7747e+06       -2.812e+08     J\n",
      " heat capacity c_p          1362.2        4.365e+04     J/K\n",
      " heat capacity c_v          1102.7        3.533e+04     J/K\n",
      "\n",
      "                           X                 Y          Chem. Pot. / RT\n",
      "                     -------------     ------------     ------------\n",
      "             CH3OH              1                1         -112.719\n",
      "     [ +292 minor]              0                0\n",
      "\n"
     ]
    }
   ],
   "source": [
    "gas2 = cantera.Solution('nuigc5.cti')\n",
    "gas2.X = {'ch3oh':1}\n",
    "#gas1.set_equivalence_ratio(phi=1.0, fuel='ch3oh', oxidizer={'O2':1.0, 'N2':3.76})\n",
    "gas1.TP = 298, 101325\n",
    "#gas2.equilibrate('HP')\n",
    "gas2()"
   ]
  },
  {
   "cell_type": "markdown",
   "metadata": {},
   "source": [
    "# Air example"
   ]
  },
  {
   "cell_type": "code",
   "execution_count": 11,
   "metadata": {},
   "outputs": [
    {
     "name": "stdout",
     "output_type": "stream",
     "text": [
      "The mixture molecular weight is 28.85 kg/kmol\n",
      "The enthalpy is 1.908 kJ/kg \n",
      "The entropy is 6.910 kJ/kgK \n",
      "The internal energy is -84.550 kJ/kg \n",
      "dh = 204.542 kJ/kg\n"
     ]
    }
   ],
   "source": [
    "gas = cantera.Solution('gri30.xml')\n",
    "#Let's set what our gas is made of\n",
    "gas.X = {'N2':0.79, 'O2':0.21}\n",
    "\n",
    "#Now set the temperature and pressure...\n",
    "gas.TP = 300, 1e5\n",
    "\n",
    "gas.equilibrate('TP')\n",
    "#gas()\n",
    "\n",
    "mw = gas.mean_molecular_weight\n",
    "print(\"The mixture molecular weight is %1.2f kg/kmol\" % mw)\n",
    "\n",
    "h1_mass = gas.enthalpy_mass/1000\n",
    "print(\"The enthalpy is %1.3f kJ/kg \" % h1_mass)\n",
    "\n",
    "s1_mass = gas.entropy_mass/1000\n",
    "print(\"The entropy is %1.3f kJ/kgK \" % s_mass)\n",
    "\n",
    "u1_mass = gas.int_energy_mass/1000\n",
    "print(\"The internal energy is %1.3f kJ/kg \" % u_mass)\n",
    "\n",
    "gas.TP = 500,1e5\n",
    "gas.equilibrate('TP')\n",
    "h2_mass = gas.h/1000\n",
    "dh = h2_mass - h1_mass\n",
    "print(\"dh = %1.3f kJ/kg\" % dh)"
   ]
  },
  {
   "cell_type": "code",
   "execution_count": 12,
   "metadata": {},
   "outputs": [
    {
     "name": "stdout",
     "output_type": "stream",
     "text": [
      "the internal energy is 340.213 kJ/kg\n",
      "the enthalpy is 426.301 kJ/kg\n",
      "the entropy is 3.891 kJ/kgK\n",
      "dh = 203.095 kJ/kg\n"
     ]
    }
   ],
   "source": [
    "## using CoolProp\n",
    "import CoolProp.CoolProp as CP\n",
    "gaz = 'Air'\n",
    "\n",
    "R = 8.314 #ideal gas const\n",
    "T = {}\n",
    "T[1] = 300\n",
    "T[2] = 500\n",
    "P = 1e5\n",
    "\n",
    "u_1 = CP.PropsSI('U','T',T[1],'P',P,gaz)/1000\n",
    "h_1 = CP.PropsSI('H','T',T[1],'P',P,gaz)/1000\n",
    "s_1 = CP.PropsSI('S','T',T[1],'P',P,gaz)/1000\n",
    "\n",
    "print(\"the internal energy is %1.3f kJ/kg\" % u_1)\n",
    "print(\"the enthalpy is %1.3f kJ/kg\" % h_1)\n",
    "print(\"the entropy is %1.3f kJ/kgK\" % s_1)\n",
    "\n",
    "h_2 = CP.PropsSI('H','T',T[2],'P',P,gaz)/1000\n",
    "dh = h_2-h_1\n",
    "print(\"dh = %1.3f kJ/kg\" % dh)"
   ]
  },
  {
   "cell_type": "code",
   "execution_count": null,
   "metadata": {},
   "outputs": [],
   "source": []
  }
 ],
 "metadata": {
  "kernelspec": {
   "display_name": "Python 3",
   "language": "python",
   "name": "python3"
  },
  "language_info": {
   "codemirror_mode": {
    "name": "ipython",
    "version": 3
   },
   "file_extension": ".py",
   "mimetype": "text/x-python",
   "name": "python",
   "nbconvert_exporter": "python",
   "pygments_lexer": "ipython3",
   "version": "3.7.9"
  },
  "varInspector": {
   "cols": {
    "lenName": 16,
    "lenType": 16,
    "lenVar": 40
   },
   "kernels_config": {
    "python": {
     "delete_cmd_postfix": "",
     "delete_cmd_prefix": "del ",
     "library": "var_list.py",
     "varRefreshCmd": "print(var_dic_list())"
    },
    "r": {
     "delete_cmd_postfix": ") ",
     "delete_cmd_prefix": "rm(",
     "library": "var_list.r",
     "varRefreshCmd": "cat(var_dic_list()) "
    }
   },
   "position": {
    "height": "263.4px",
    "left": "999.2px",
    "right": "20px",
    "top": "119px",
    "width": "351.4px"
   },
   "types_to_exclude": [
    "module",
    "function",
    "builtin_function_or_method",
    "instance",
    "_Feature"
   ],
   "window_display": false
  }
 },
 "nbformat": 4,
 "nbformat_minor": 2
}
